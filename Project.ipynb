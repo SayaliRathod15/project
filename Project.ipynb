{
  "metadata": {
    "kernelspec": {
      "name": "python",
      "display_name": "Python (Pyodide)",
      "language": "python"
    },
    "language_info": {
      "codemirror_mode": {
        "name": "python",
        "version": 3
      },
      "file_extension": ".py",
      "mimetype": "text/x-python",
      "name": "python",
      "nbconvert_exporter": "python",
      "pygments_lexer": "ipython3",
      "version": "3.8"
    }
  },
  "nbformat_minor": 4,
  "nbformat": 4,
  "cells": [
    {
      "cell_type": "markdown",
      "source": "# Data Science Tools",
      "metadata": {}
    },
    {
      "cell_type": "markdown",
      "source": "## Introduction",
      "metadata": {}
    },
    {
      "cell_type": "markdown",
      "source": "Data science involves the use of various tools and technologies to gather, analyze, and interpret large amounts of data. These tools play a crucial role in every stage of the data science workflow, from data cleaning and exploration to modeling and visualization.",
      "metadata": {}
    },
    {
      "cell_type": "markdown",
      "source": "## Data Science Languages",
      "metadata": {}
    },
    {
      "cell_type": "markdown",
      "source": "- **Python**\n- **R**\n- **SQL (Structured Query Language)**\n- **Julia**\n- **Java**\n- **Scala**",
      "metadata": {}
    },
    {
      "cell_type": "markdown",
      "source": "## Data Science Liabraries",
      "metadata": {}
    },
    {
      "cell_type": "markdown",
      "source": "\n- **NumPy**\n- **Pandas**\n- **Matplotlib**\n- **Seaborn**\n- **Scikit-learn**\n- **TensorFlow**\n- **PyTorch**\n- **NLTK (Natural Language Toolkit)**\n- **Spark**\n\n",
      "metadata": {}
    },
    {
      "cell_type": "markdown",
      "source": "## Table of Data Science tools",
      "metadata": {}
    },
    {
      "cell_type": "markdown",
      "source": "|  Tool                        |    Description                \n|------------------------------|----------------------------------------------------------------------------------------------------------------|\n| **Python**                   | General-purpose programming language widely used for data analysis, machine learning, and more.                |\n| **R**                        | Programming language and software environment for statistical computing and graphics.                          |\n| **SQL**                      | Standard language for managing and manipulating databases.                                                     |\n| **Jupyter Notebook**         | Web-based interactive computing environment for creating and sharing documents containing live codet.          |\n| **NumPy**                    | Python library for numerical computing with support for large, multi-dimensional arrays and matrices.          |\n| **Pandas**                   | Python library for  offering data structures and operations for manipulating numerical tables and time series. |\n| **Matplotlib**               | Python plotting library for creating static, animated, and interactive visualizations.                         |\n| **Seaborn**                  | Python library for statistical data visualization based on Matplotlib.                                         |\n| **Scikit-learn**             | Python library for machine learning built on NumPy, SciPy, and Matplotlib.                                     |\n| **TensorFlow**               | Open-source platform for machine learning and deep learning developed by Google Brain.                         |\n| **PyTorch**                  | Deep learning framework known for its flexibility and ease of use                                              |\n| **NLTK**                     | Python library for natural language processing (NLP) tasks such as tokenization, stemming, and parsing.        |\n| **Spark**                    | Unified analytics engine for big data processing, with modules for streaming, SQL, machine learning            |\n| **Tableau**                  | Business intelligence and analytics software that allows users to visualize and understand their data.         |\n| **Power BI**                 | Business analytics service by Microsoft that provides interactive visualizations                               |\n| **Excel**                    | Spreadsheet application by Microsoft used extensively for data analysis, reporting, and visualization.         |\n| **Git**                      | Version control system used to track changes in source code and collaborate on projects.                       |\n| **Docker**                   | Platform for developing, shipping, and running applications using containerization.                            |",
      "metadata": {}
    },
    {
      "cell_type": "markdown",
      "source": "## Arithmetic expression examples",
      "metadata": {}
    },
    {
      "cell_type": "markdown",
      "source": "**Basic Operations**:\n   - Addition: `2 + 3 = 5`\n   - Subtraction: `5 - 2 = 3`\n   - Multiplication: `4 * 6 = 24`\n   - Division: `10 / 2 = 5`\n\n2. **Using Parentheses**:\n   - Complex expressions can use parentheses to specify the order of operations:\n     - `(5 + 3) * 2 = 16`\n     - `8 / (4 - 2) = 4`\n\n3. **Combining Operations**:\n   - Expressions can combine multiple operations:\n     - `3 + 5 * 2 = 13` (Multiplication is performed before addition)\n     - `(10 - 3) / (2 + 1) = 2.33` (Parentheses specify the order of operations)\n\n 4. **Negative Numbers**:\n   - Handling negative numbers:\n     - `-7 + 3 = -4`\n     - `5 - (-2) = 7` (Subtraction of a negative number is equivalent to addition)\n\n5. **Exponents**:\n   - Exponentiation using the `**` operator:\n     - `2 ** 3 = 8` (2 raised to the power of 3)\n\n",
      "metadata": {}
    },
    {
      "cell_type": "code",
      "source": "# Multiply and add numbers\nnumber1 = 5\nnumber2 = 3\n\n# Multiply\nproduct = number1 * number2\nprint(f\"Multiplication: {number1} * {number2} = {product}\")\n\n# Add\nsum_result = number1 + number2\nprint(f\"Addition: {number1} + {number2} = {sum_result}\")",
      "metadata": {
        "trusted": true
      },
      "outputs": [
        {
          "name": "stdout",
          "text": "Multiplication: 5 * 3 = 15\nAddition: 5 + 3 = 8\n",
          "output_type": "stream"
        }
      ],
      "execution_count": 9
    },
    {
      "cell_type": "code",
      "source": "# Convert minutes to hours\nminutes = 120\n\n# Calculate hours\nhours = minutes / 60\n\n# Print the result\nprint(f\"{minutes} minutes is equal to {hours} hours\")",
      "metadata": {
        "trusted": true
      },
      "outputs": [
        {
          "name": "stdout",
          "text": "120 minutes is equal to 2.0 hours\n",
          "output_type": "stream"
        }
      ],
      "execution_count": 10
    },
    {
      "cell_type": "markdown",
      "source": "## Objective",
      "metadata": {}
    },
    {
      "cell_type": "markdown",
      "source": "- Understand basic arithmetic operations in Python.\n- Learn how to define variables and perform calculations.\n- Explore the concept of data manipulation using Python.\n- Practice converting units of measurement, such as minutes to hours.\n- Gain familiarity with Markdown syntax and its applications in documenting code and analysis.",
      "metadata": {}
    },
    {
      "cell_type": "markdown",
      "source": "## Author\n",
      "metadata": {}
    },
    {
      "cell_type": "markdown",
      "source": "- **Author:** [Sayali Rathod]\n",
      "metadata": {}
    }
  ]
}